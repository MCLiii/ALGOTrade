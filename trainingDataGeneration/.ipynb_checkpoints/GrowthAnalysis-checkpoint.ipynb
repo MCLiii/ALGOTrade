{
 "cells": [
  {
   "cell_type": "code",
   "execution_count": 1,
   "id": "f7ec085f-a131-466a-befd-2afa9bb67966",
   "metadata": {},
   "outputs": [],
   "source": [
    "import numpy\n",
    "import torch"
   ]
  },
  {
   "cell_type": "code",
   "execution_count": 5,
   "id": "597220bc-8b0b-417c-bdc0-399a81156bb7",
   "metadata": {},
   "outputs": [],
   "source": [
    "class account:\n",
    "    def __init__(self, initial_cash):\n",
    "        self.shares = dict\n",
    "        dict[\"cash\"] = initial_cash\n",
    "\n",
    "    def debit_shares(self, sym, shares, share_price):\n",
    "        self.shares[sym] += sym.shares\n",
    "        self.shares[\"cash\"] -= sym.shares * share_price\n",
    "\n",
    "    def credit_shares(self, sym, shares, share_price):\n",
    "        self.shares[sym] -= sym.shares\n",
    "        self.shares[\"cash\"] += sym.shares * share_price\n",
    "\n",
    "    def cash_equavalent(self, )"
   ]
  },
  {
   "cell_type": "code",
   "execution_count": null,
   "id": "2b7e2faf-a5b9-4f53-a95a-1a386356adda",
   "metadata": {},
   "outputs": [],
   "source": []
  }
 ],
 "metadata": {
  "kernelspec": {
   "display_name": "Python 3 (ipykernel)",
   "language": "python",
   "name": "python3"
  },
  "language_info": {
   "codemirror_mode": {
    "name": "ipython",
    "version": 3
   },
   "file_extension": ".py",
   "mimetype": "text/x-python",
   "name": "python",
   "nbconvert_exporter": "python",
   "pygments_lexer": "ipython3",
   "version": "3.11.3"
  }
 },
 "nbformat": 4,
 "nbformat_minor": 5
}
