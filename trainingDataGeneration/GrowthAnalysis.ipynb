{
 "cells": [
  {
   "cell_type": "code",
   "execution_count": 2,
   "id": "597220bc-8b0b-417c-bdc0-399a81156bb7",
   "metadata": {
    "ExecuteTime": {
     "start_time": "2023-07-11T21:40:16.448829Z",
     "end_time": "2023-07-11T21:40:16.458040Z"
    }
   },
   "outputs": [],
   "source": [
    "from collections import defaultdict\n",
    "\n",
    "class ledger:\n",
    "    def __init__(self, initial_cash):\n",
    "        self.shares = defaultdict(dict[str, float])\n",
    "        self.shares[\"cash\"] = initial_cash\n",
    "\n",
    "    def transaction(self, orig_sym, dest_sym, num_shares, share_price, commision):\n",
    "        '''trading org sym for num_shares of dest sym'''\n",
    "        if dest_sym not in self.shares:\n",
    "            self.shares[dest_sym] = 0\n",
    "        '''buy or sell shares of a symbol'''\n",
    "        self.shares[dest_sym] += num_shares\n",
    "        self.shares[orig_sym] -= num_shares * share_price\n",
    "\n",
    "    def get_share(self, sym):\n",
    "        if sym not in self.shares:\n",
    "            return 0\n",
    "        return self.shares[sym]\n",
    "\n",
    "    def cash_equavalent(self, share_prices):\n",
    "        '''computes the cash equevalent of the shared currently under the account share_prices \n",
    "        should be an dictionary with symbol as key and current price as value'''\n",
    "        cash_eq = 0\n",
    "        for s in self.shares.keys():\n",
    "            cash_eq += share_prices[s] * self.shares[s]\n",
    "        return cash_eq"
   ]
  },
  {
   "cell_type": "code",
   "execution_count": 3,
   "id": "2b7e2faf-a5b9-4f53-a95a-1a386356adda",
   "metadata": {
    "ExecuteTime": {
     "start_time": "2023-07-11T21:40:17.569186Z",
     "end_time": "2023-07-11T21:40:17.776606Z"
    }
   },
   "outputs": [],
   "source": [
    "import numpy as np"
   ]
  },
  {
   "cell_type": "code",
   "execution_count": 4,
   "id": "35a8b840",
   "metadata": {
    "ExecuteTime": {
     "start_time": "2023-07-11T21:40:20.157181Z",
     "end_time": "2023-07-11T21:40:20.171621Z"
    }
   },
   "outputs": [
    {
     "data": {
      "text/plain": "array([0, 2, 1, ..., 1, 1, 1])"
     },
     "execution_count": 4,
     "metadata": {},
     "output_type": "execute_result"
    }
   ],
   "source": [
    "data = np.load(\"data.npz\")\n",
    "close_price = data['arr_0']\n",
    "label = data['arr_1']\n",
    "label"
   ]
  },
  {
   "cell_type": "code",
   "execution_count": 19,
   "id": "f6bc0bb9",
   "metadata": {
    "ExecuteTime": {
     "start_time": "2023-07-11T21:36:00.173578Z",
     "end_time": "2023-07-11T21:36:00.173743Z"
    }
   },
   "outputs": [
    {
     "name": "stderr",
     "output_type": "stream",
     "text": [
      "/var/folders/8j/hvx2rttd66b5n8drw21z0wv80000gn/T/ipykernel_95887/580189455.py:28: RuntimeWarning: overflow encountered in double_scalars\n",
      "  cash_eq += share_prices[s] * self.shares[s]\n",
      "/var/folders/8j/hvx2rttd66b5n8drw21z0wv80000gn/T/ipykernel_95887/580189455.py:16: RuntimeWarning: overflow encountered in double_scalars\n",
      "  self.shares[orig_sym] -= num_shares * share_price\n",
      "/var/folders/8j/hvx2rttd66b5n8drw21z0wv80000gn/T/ipykernel_95887/580189455.py:28: RuntimeWarning: invalid value encountered in double_scalars\n",
      "  cash_eq += share_prices[s] * self.shares[s]\n",
      "/var/folders/8j/hvx2rttd66b5n8drw21z0wv80000gn/T/ipykernel_95887/580189455.py:15: RuntimeWarning: invalid value encountered in double_scalars\n",
      "  self.shares[dest_sym] += num_shares\n",
      "/var/folders/8j/hvx2rttd66b5n8drw21z0wv80000gn/T/ipykernel_95887/580189455.py:16: RuntimeWarning: invalid value encountered in double_scalars\n",
      "  self.shares[orig_sym] -= num_shares * share_price\n"
     ]
    }
   ],
   "source": [
    "price = {\"cash\": 1, \"eth\": close_price[0]}\n",
    "account = ledger(1)\n",
    "cash_eq = []\n",
    "prev_op = 0\n",
    "completed_transaction = 0\n",
    "wins = 0\n",
    "purchase_price = 0\n",
    "for i in range(len(label)):\n",
    "    price[\"eth\"] = close_price[i]\n",
    "    if(label[i]!=prev_op):\n",
    "        if label[i]==1:\n",
    "            account.transaction(\"cash\", \"eth\", account.get_share(\"cash\")/close_price[i], close_price[i], 0.01)\n",
    "            prev_op = 1\n",
    "            purchase_price = close_price[i]\n",
    "\n",
    "        elif label[i]==2:\n",
    "            account.transaction(\"eth\", \"cash\", -account.get_share(\"eth\"), close_price[i], 0.01)\n",
    "            prev_op = 2\n",
    "            completed_transaction += 1\n",
    "            if purchase_price < close_price[i]:\n",
    "                wins += 1\n",
    "\n",
    "    cash_eq.append(account.cash_equavalent(price))"
   ]
  },
  {
   "cell_type": "code",
   "execution_count": 17,
   "id": "63c08660",
   "metadata": {
    "ExecuteTime": {
     "start_time": "2023-07-11T21:35:26.816439Z",
     "end_time": "2023-07-11T21:35:27.501809Z"
    }
   },
   "outputs": [
    {
     "data": {
      "text/plain": "[<matplotlib.lines.Line2D at 0x1697b1990>]"
     },
     "execution_count": 17,
     "metadata": {},
     "output_type": "execute_result"
    },
    {
     "data": {
      "text/plain": "<Figure size 640x480 with 1 Axes>",
      "image/png": "[encoded data removed]"
     },
     "metadata": {},
     "output_type": "display_data"
    }
   ],
   "source": [
    "import matplotlib.pyplot as plt\n",
    "plt.plot(close_price/close_price[0])\n",
    "plt.plot(cash_eq)"
   ]
  },
  {
   "cell_type": "code",
   "execution_count": 92,
   "id": "e7c8d6fa",
   "metadata": {},
   "outputs": [
    {
     "data": {
      "text/plain": [
       "8007.315871773924"
      ]
     },
     "execution_count": 92,
     "metadata": {},
     "output_type": "execute_result"
    }
   ],
   "source": [
    "close_price[0]"
   ]
  },
  {
   "cell_type": "code",
   "execution_count": 95,
   "id": "f64fa6aa",
   "metadata": {},
   "outputs": [
    {
     "name": "stdout",
     "output_type": "stream",
     "text": [
      "SMA ROI  76.84864051369152 market ROI 3.7478627346193263\n",
      "completed transactions 277 win rate  111\n"
     ]
    }
   ],
   "source": [
    "print(\"SMA ROI \", cash_eq[len(cash_eq)-1], \"market ROI\", close_price[len(close_price)-1]/close_price[0])\n",
    "print(\"completed transactions\", completed_transaction, \"win rate \", wins)"
   ]
  },
  {
   "cell_type": "code",
   "execution_count": null,
   "id": "5537757e",
   "metadata": {},
   "outputs": [],
   "source": []
  }
 ],
 "metadata": {
  "kernelspec": {
   "display_name": "Python 3 (ipykernel)",
   "language": "python",
   "name": "python3"
  },
  "language_info": {
   "codemirror_mode": {
    "name": "ipython",
    "version": 3
   },
   "file_extension": ".py",
   "mimetype": "text/x-python",
   "name": "python",
   "nbconvert_exporter": "python",
   "pygments_lexer": "ipython3",
   "version": "3.11.3"
  }
 },
 "nbformat": 4,
 "nbformat_minor": 5
}
