{
 "cells": [
  {
   "cell_type": "code",
   "execution_count": 1,
   "id": "f7ec085f-a131-466a-befd-2afa9bb67966",
   "metadata": {},
   "outputs": [],
   "source": [
    "import numpy\n",
    "import torch"
   ]
  },
  {
   "cell_type": "code",
   "execution_count": 1,
   "id": "597220bc-8b0b-417c-bdc0-399a81156bb7",
   "metadata": {},
   "outputs": [],
   "source": [
    "class account:\n",
    "    def __init__(self, initial_cash):\n",
    "        self.shares = dict\n",
    "        dict[\"cash\"] = initial_cash\n",
    "\n",
    "    def edit_shares(self, sym, num_shares, share_price):\n",
    "        '''buy or sell shares of a symbol'''\n",
    "        self.shares[sym] += num_shares\n",
    "        self.shares[\"cash\"] -= num_shares * share_price\n",
    "\n",
    "    def cash_equavalent(self, share_prices):\n",
    "        '''computes the cash equevalent of the shared currently under the account share_prices \n",
    "        should be an dictionary with symbol as key and current price as value'''\n",
    "        cash_eq = 0\n",
    "        for s in self.shares.keys():\n",
    "            cash_eq += share_prices[s] * self.shares[s]\n",
    "        return cash_eq"
   ]
  },
  {
   "cell_type": "code",
   "execution_count": null,
   "id": "2b7e2faf-a5b9-4f53-a95a-1a386356adda",
   "metadata": {},
   "outputs": [],
   "source": []
  }
 ],
 "metadata": {
  "kernelspec": {
   "display_name": "Python 3 (ipykernel)",
   "language": "python",
   "name": "python3"
  },
  "language_info": {
   "codemirror_mode": {
    "name": "ipython",
    "version": 3
   },
   "file_extension": ".py",
   "mimetype": "text/x-python",
   "name": "python",
   "nbconvert_exporter": "python",
   "pygments_lexer": "ipython3",
   "version": "3.11.3"
  }
 },
 "nbformat": 4,
 "nbformat_minor": 5
}
